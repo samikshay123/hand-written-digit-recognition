{
  "nbformat": 4,
  "nbformat_minor": 0,
  "metadata": {
    "colab": {
      "provenance": [],
      "mount_file_id": "1IiO1Lo5G-jF5BCIDJA0x8lQTB8rxFqE-",
      "authorship_tag": "ABX9TyNYj/qYjTFT4LHDJ1hqd02v",
      "include_colab_link": true
    },
    "kernelspec": {
      "name": "python3",
      "display_name": "Python 3"
    },
    "language_info": {
      "name": "python"
    }
  },
  "cells": [
    {
      "cell_type": "markdown",
      "metadata": {
        "id": "view-in-github",
        "colab_type": "text"
      },
      "source": [
        "<a href=\"https://colab.research.google.com/github/samikshay123/hand-written-digit-recognition/blob/main/hand_written_digit_recognition.ipynb\" target=\"_parent\"><img src=\"https://colab.research.google.com/assets/colab-badge.svg\" alt=\"Open In Colab\"/></a>"
      ]
    },
    {
      "cell_type": "code",
      "source": [
        "#import libraries\n",
        "import pandas as pd\n",
        "import numpy as np\n",
        "import matplotlib.pyplot as plt\n",
        "import seaborn as sns\n",
        "from sklearn.datasets import load_digits\n",
        "df=load_digits()\n",
        "_, axes=plt.subplots(nrows=1,ncols=4,figsize=(10,5))\n",
        "_, axes=plt.subplots(nrows=1,ncols=4,figsize=(10,5))\n",
        "for ax, image, label in zip(axes,df.images,df.target):\n",
        "    ax.set_axis_off()\n",
        "    ax.imshow(image,cmap=plt.cm.gray_r)#,interpolation=\"nearest\")\n",
        "    ax.set_title(\"Training: %i\"% label)\n",
        "df.images.shape\n",
        "df.images[10]\n",
        "df.images[10].shape\n",
        "len(df.images)\n",
        "samples=len(df.images)\n",
        "data=df.images.reshape(samples,-1)\n",
        "data\n",
        "data[10]\n",
        "data[10].shape\n",
        "data.shape\n",
        "data.min()\n",
        "data.max()\n",
        "data=data/16\n",
        "data.min()\n",
        "data.max()\n",
        "data[10]\n",
        "\n",
        "from sklearn.model_selection import train_test_split\n",
        "x_train,x_test,y_train,y_test=train_test_split(data,df.target,test_size=0.3)\n",
        "from sklearn.ensemble import RandomForestClassifier\n",
        "model=RandomForestClassifier()\n",
        "model.fit(x_train,y_train)\n",
        "y_pred=model.predict(x_test)\n",
        "y_pred\n",
        "from sklearn.metrics import accuracy_score, classification_report,confusion_matrix\n",
        "print(classification_report(y_test,y_pred))\n",
        "print(accuracy_score(y_test,y_pred))"
      ],
      "metadata": {
        "colab": {
          "base_uri": "https://localhost:8080/",
          "height": 902
        },
        "id": "OK9ZtJ6EoVkJ",
        "outputId": "476ec151-30bf-419b-b074-cc46f5578237"
      },
      "execution_count": 68,
      "outputs": [
        {
          "output_type": "stream",
          "name": "stdout",
          "text": [
            "              precision    recall  f1-score   support\n",
            "\n",
            "           0       1.00      1.00      1.00        43\n",
            "           1       0.97      0.98      0.98        60\n",
            "           2       1.00      1.00      1.00        47\n",
            "           3       1.00      0.91      0.95        57\n",
            "           4       1.00      0.96      0.98        51\n",
            "           5       0.93      0.96      0.95        57\n",
            "           6       0.97      1.00      0.99        67\n",
            "           7       0.91      1.00      0.95        60\n",
            "           8       0.94      0.92      0.93        49\n",
            "           9       0.96      0.90      0.93        49\n",
            "\n",
            "    accuracy                           0.96       540\n",
            "   macro avg       0.97      0.96      0.96       540\n",
            "weighted avg       0.97      0.96      0.96       540\n",
            "\n",
            "0.9648148148148148\n"
          ]
        },
        {
          "output_type": "display_data",
          "data": {
            "text/plain": [
              "<Figure size 1000x500 with 4 Axes>"
            ],
            "image/png": "[encoded data removed]"
          },
          "metadata": {}
        },
        {
          "output_type": "display_data",
          "data": {
            "text/plain": [
              "<Figure size 1000x500 with 4 Axes>"
            ],
            "image/png": "[encoded data removed]"
          },
          "metadata": {}
        }
      ]
    }
  ]
}